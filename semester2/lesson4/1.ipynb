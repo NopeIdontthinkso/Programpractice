{
 "cells": [
  {
   "cell_type": "code",
   "execution_count": 2,
   "metadata": {},
   "outputs": [
    {
     "name": "stdout",
     "output_type": "stream",
     "text": [
      "[1, 2]\n",
      "[3, 4]\n",
      "[1, 2]\n",
      "[3, 4]\n"
     ]
    }
   ],
   "source": [
    "list1 = [1,2]\n",
    "list2 = [3,4]\n",
    "\n",
    "list2d = [list1, list2]\n",
    "\n",
    "for i in range(len(list2d)):\n",
    "    print(list2d[i])\n",
    "\n",
    "for row in list2d:\n",
    "    print(row)"
   ]
  },
  {
   "cell_type": "code",
   "execution_count": 5,
   "metadata": {},
   "outputs": [
    {
     "name": "stdout",
     "output_type": "stream",
     "text": [
      "1 2 5 7 \n",
      "3 4 6 8 \n"
     ]
    }
   ],
   "source": [
    "list1 = [1,2,5,7]\n",
    "list2 = [3,4,6,8]\n",
    "\n",
    "list2d = [list1, list2]\n",
    "\n",
    "for i in range(len(list2d)):\n",
    "    for j in range(len(list2d[i])):\n",
    "        print(list2d[i][j], end=' ')\n",
    "    print()"
   ]
  },
  {
   "cell_type": "code",
   "execution_count": 7,
   "metadata": {},
   "outputs": [
    {
     "name": "stdout",
     "output_type": "stream",
     "text": [
      "8\n",
      "1\n"
     ]
    }
   ],
   "source": [
    "list1 = [1,2,5,7]\n",
    "list2 = [3,4,6,8]\n",
    "\n",
    "list2d = [list1, list2]\n",
    "\n",
    "a = list2d[0][0]\n",
    "c = list2d[0][0]\n",
    "for i in range(len(list2d)):\n",
    "    for j in range(len(list2d[i])):\n",
    "        b = list2d[i][j]\n",
    "        if b > a:\n",
    "            a = b\n",
    "        if b < c:\n",
    "            c = b\n",
    "print(a)\n",
    "print(c)"
   ]
  },
  {
   "cell_type": "code",
   "execution_count": null,
   "metadata": {},
   "outputs": [],
   "source": []
  }
 ],
 "metadata": {
  "interpreter": {
   "hash": "c4cdca8cf6037a262b76618109a328ec3d85c282afcc942ccf996e017a3001e3"
  },
  "kernelspec": {
   "display_name": "Python 3.8.3 ('base')",
   "language": "python",
   "name": "python3"
  },
  "language_info": {
   "codemirror_mode": {
    "name": "ipython",
    "version": 3
   },
   "file_extension": ".py",
   "mimetype": "text/x-python",
   "name": "python",
   "nbconvert_exporter": "python",
   "pygments_lexer": "ipython3",
   "version": "3.8.3"
  },
  "orig_nbformat": 4
 },
 "nbformat": 4,
 "nbformat_minor": 2
}
