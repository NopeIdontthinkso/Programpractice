{
 "cells": [
  {
   "cell_type": "markdown",
   "metadata": {},
   "source": [
    "# Homework 6"
   ]
  },
  {
   "cell_type": "markdown",
   "metadata": {},
   "source": [
    "### Exercise: Map $x^2$\n",
    "Write a function that takes a list of numbers and returns a new list with the square of each number in the original list. For example: \n",
    "```python\n",
    "x = [1,4,2,5,3]\n",
    "x2 = map_squares(x)\n",
    "print(x2)\n",
    "```\n",
    "should print `[1,16,4,25,9]`"
   ]
  },
  {
   "cell_type": "code",
   "execution_count": 1,
   "metadata": {},
   "outputs": [
    {
     "name": "stdout",
     "output_type": "stream",
     "text": [
      "[1, 16, 4, 25, 9]\n"
     ]
    }
   ],
   "source": [
    "def map_squares(list_x):\n",
    "    list_y = []\n",
    "    for i in range(len(list_x)):\n",
    "        a = list_x[i]**2\n",
    "        list_y.append(a)\n",
    "    return list_y\n",
    "\n",
    "\n",
    "\n",
    "# test\n",
    "x = [1,4,2,5,3]\n",
    "x2 = map_squares(x)\n",
    "print(x2)"
   ]
  },
  {
   "cell_type": "markdown",
   "metadata": {},
   "source": [
    "### Exercise: Fibonacci List\n",
    "Use a `for` loop and the `append` function to create a list with the first 100 Fibonacci numbers, i.e. `[1,1,2,3,5,8,13,21,34,55,...]`."
   ]
  },
  {
   "cell_type": "code",
   "execution_count": 3,
   "metadata": {},
   "outputs": [
    {
     "name": "stdout",
     "output_type": "stream",
     "text": [
      "[1, 1, 2, 3, 5, 8, 13, 21, 34, 55, 89, 144, 233, 377, 610, 987, 1597, 2584, 4181, 6765, 10946, 17711, 28657, 46368, 75025, 121393, 196418, 317811, 514229, 832040, 1346269, 2178309, 3524578, 5702887, 9227465, 14930352, 24157817, 39088169, 63245986, 102334155, 165580141, 267914296, 433494437, 701408733, 1134903170, 1836311903, 2971215073, 4807526976, 7778742049, 12586269025, 20365011074, 32951280099, 53316291173, 86267571272, 139583862445, 225851433717, 365435296162, 591286729879, 956722026041, 1548008755920, 2504730781961, 4052739537881, 6557470319842, 10610209857723, 17167680177565, 27777890035288, 44945570212853, 72723460248141, 117669030460994, 190392490709135, 308061521170129, 498454011879264, 806515533049393, 1304969544928657, 2111485077978050, 3416454622906707, 5527939700884757, 8944394323791464, 14472334024676221, 23416728348467685, 37889062373143906, 61305790721611591, 99194853094755497, 160500643816367088, 259695496911122585, 420196140727489673, 679891637638612258, 1100087778366101931, 1779979416004714189, 2880067194370816120, 4660046610375530309, 7540113804746346429, 12200160415121876738, 19740274219868223167, 31940434634990099905, 51680708854858323072, 83621143489848422977, 135301852344706746049, 218922995834555169026, 354224848179261915075]\n"
     ]
    }
   ],
   "source": [
    "f = [1,1]\n",
    "for i in range(2,100):\n",
    "    a = f[i-2] + f[i-1]\n",
    "    f.append(a)\n",
    "    \n",
    "print(f)"
   ]
  },
  {
   "cell_type": "markdown",
   "metadata": {},
   "source": [
    "### Exercise: List Equivalence\n",
    "Write a function to test if two lists have the same elements in the same order. The function should return `True` if the two lists are equivalent and `False` otherwise."
   ]
  },
  {
   "cell_type": "code",
   "execution_count": 4,
   "metadata": {},
   "outputs": [
    {
     "name": "stdout",
     "output_type": "stream",
     "text": [
      "True\n"
     ]
    }
   ],
   "source": [
    "def is_equal(list_a, list_b):\n",
    "    if len(list_a) == len(list_b):\n",
    "        for i in range(len(list_a)):\n",
    "            if list_a[i] != list_b[i]:\n",
    "                return False\n",
    "        return True\n",
    "\n",
    "    else:\n",
    "        return False\n",
    "\n",
    "\n",
    "# test\n",
    "x = [1,4,2,5,3]\n",
    "y = [1,4,2,5,3]\n",
    "print(is_equal(x, y))"
   ]
  },
  {
   "cell_type": "markdown",
   "metadata": {},
   "source": [
    "### Exercise: Digit List\n",
    "Write a function that takes an integer and returns a list or its digits. For example,\n",
    "`to_digits(50394829384)` should return `[5,0,3,9,4,8,2,9,3,8,4]`. Do not use string conversion."
   ]
  },
  {
   "cell_type": "code",
   "execution_count": 9,
   "metadata": {},
   "outputs": [
    {
     "name": "stdout",
     "output_type": "stream",
     "text": [
      "[5, 0, 3, 9, 4, 8, 2, 9, 3, 8, 4]\n"
     ]
    }
   ],
   "source": [
    "def to_digits(number):\n",
    "    list_x = []\n",
    "    while number > 0:\n",
    "        a = number % 10\n",
    "        list_x.append(a)\n",
    "        number = number//10\n",
    "    list_x.reverse()\n",
    "    return list_x\n",
    "\n",
    "\n",
    "    \n",
    "\n",
    "\n",
    "# test\n",
    "x = 50394829384\n",
    "x2 = to_digits(x)\n",
    "print(x2)"
   ]
  },
  {
   "cell_type": "markdown",
   "metadata": {},
   "source": [
    "### Exercise: Filter Primes\n",
    "Write a function that takes a list of numbers and returns a new list with the prime numbers in the original list. For example: \n",
    "```python\n",
    "x = [1,2,3,4,5,6,7,8,9,10]\n",
    "x2 = filter_primes(x)\n",
    "print(x2)\n",
    "```\n",
    "should output `[2,3,5,7]`. \n",
    "\n",
    "Recall, a prime number is a positive integer that is divisible by no other number but 1 and itself."
   ]
  },
  {
   "cell_type": "code",
   "execution_count": 17,
   "metadata": {},
   "outputs": [
    {
     "name": "stdout",
     "output_type": "stream",
     "text": [
      "[2, 3, 5, 7, 11, 13, 17, 19, 23, 29, 31, 37, 41, 43, 47, 53, 59, 61, 67, 71, 73, 79, 83, 89, 97, 101, 103, 107, 109, 113, 127, 131, 137, 139, 149, 151, 157, 163, 167, 173, 179, 181, 191, 193, 197, 199, 211, 223, 227, 229, 233, 239, 241, 251, 257, 263, 269, 271, 277, 281, 283, 293, 307, 311, 313, 317, 331, 337, 347, 349, 353, 359, 367, 373, 379, 383, 389, 397, 401, 409, 419, 421, 431, 433, 439, 443, 449, 457, 461, 463, 467, 479, 487, 491, 499, 503, 509, 521, 523, 541, 547, 557, 563, 569, 571, 577, 587, 593, 599, 601, 607, 613, 617, 619, 631, 641, 643, 647, 653, 659, 661, 673, 677, 683, 691, 701, 709, 719, 727, 733, 739, 743, 751, 757, 761, 769, 773, 787, 797, 809, 811, 821, 823, 827, 829, 839, 853, 857, 859, 863, 877, 881, 883, 887, 907, 911, 919, 929, 937, 941, 947, 953, 967, 971, 977, 983, 991, 997]\n"
     ]
    }
   ],
   "source": [
    "def filter_primes(list_x):\n",
    "    list_y=[]\n",
    "    for i in range(len(list_x)):\n",
    "        a = list_x[i]\n",
    "        if a > 1:\n",
    "            is_prime = True\n",
    "            for j in range(2,a):\n",
    "                if a%j == 0:\n",
    "                    is_prime = False\n",
    "                    break\n",
    "            if is_prime:\n",
    "                list_y.append(a)\n",
    "    return list_y\n",
    "        \n",
    "\n",
    "\n",
    "\n",
    "# test\n",
    "x = [1,2,3,4,5,6,7,8,9,10]\n",
    "x2 = filter_primes(list(range(1000)))\n",
    "print(x2)"
   ]
  }
 ],
 "metadata": {
  "kernelspec": {
   "display_name": "Python 3.8.8 ('base')",
   "language": "python",
   "name": "python3"
  },
  "language_info": {
   "codemirror_mode": {
    "name": "ipython",
    "version": 3
   },
   "file_extension": ".py",
   "mimetype": "text/x-python",
   "name": "python",
   "nbconvert_exporter": "python",
   "pygments_lexer": "ipython3",
   "version": "3.8.8"
  },
  "vscode": {
   "interpreter": {
    "hash": "0f5872b5ebc8e0cadb7e27fdef88c82cc5a1ab8a30bbbc136da53e58c0ac3ba0"
   }
  }
 },
 "nbformat": 4,
 "nbformat_minor": 4
}
