{
 "cells": [
  {
   "cell_type": "code",
   "execution_count": 1,
   "metadata": {},
   "outputs": [
    {
     "name": "stdout",
     "output_type": "stream",
     "text": [
      "['l', 'l', 'l']\n"
     ]
    }
   ],
   "source": [
    "foods=[]\n",
    "for i in range(3):\n",
    "    food=input('what do you want to eat')\n",
    "    foods.append(food)\n",
    "print(foods)"
   ]
  },
  {
   "cell_type": "code",
   "execution_count": 12,
   "metadata": {},
   "outputs": [
    {
     "name": "stdout",
     "output_type": "stream",
     "text": [
      "hello a\n",
      "hello b\n",
      "hello c\n"
     ]
    }
   ],
   "source": [
    "names=['a','b','c']\n",
    "for i in range(len(names)):\n",
    "    print ('hello',names[i])"
   ]
  },
  {
   "cell_type": "code",
   "execution_count": 11,
   "metadata": {},
   "outputs": [
    {
     "name": "stdout",
     "output_type": "stream",
     "text": [
      "hello a\n",
      "b has been dead\n",
      "hello c\n"
     ]
    }
   ],
   "source": [
    "names=['a','b','c']\n",
    "for i in range(len(names)):\n",
    "    if i==1:\n",
    "        print(names[i],'has been dead')\n",
    "    else:\n",
    "        print ('hello',names[i])"
   ]
  },
  {
   "cell_type": "code",
   "execution_count": 13,
   "metadata": {},
   "outputs": [
    {
     "name": "stdout",
     "output_type": "stream",
     "text": [
      "a ,you suck\n",
      "b has been dead\n",
      "hello c\n",
      "hello d\n",
      "hello e\n"
     ]
    }
   ],
   "source": [
    "names=['a','b','c','d','e']\n",
    "for n in names:\n",
    "    if n=='b':\n",
    "        print(n,'has been dead')\n",
    "    elif n=='a':\n",
    "        print(n+\",you suck\")\n",
    "    else:\n",
    "        print ('hello',n)"
   ]
  }
 ],
 "metadata": {
  "interpreter": {
   "hash": "22939fcd0a1a91990d696d6a3d4749d5d155952969dd52ee342043c2f59c9142"
  },
  "kernelspec": {
   "display_name": "Python 3.8.8 64-bit ('base': conda)",
   "name": "python3"
  },
  "language_info": {
   "codemirror_mode": {
    "name": "ipython",
    "version": 3
   },
   "file_extension": ".py",
   "mimetype": "text/x-python",
   "name": "python",
   "nbconvert_exporter": "python",
   "pygments_lexer": "ipython3",
   "version": "3.8.8"
  },
  "orig_nbformat": 4
 },
 "nbformat": 4,
 "nbformat_minor": 2
}
